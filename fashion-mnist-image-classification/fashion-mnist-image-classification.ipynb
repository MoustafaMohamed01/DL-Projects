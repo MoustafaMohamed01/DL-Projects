{
 "cells": [
  {
   "cell_type": "code",
   "execution_count": null,
   "id": "d3728d5e-553b-4061-810f-eb2351d33283",
   "metadata": {},
   "outputs": [],
   "source": [
    "import numpy as np\n",
    "np.random.seed(0)\n",
    "import random\n",
    "random.seed(0)\n",
    "import tensorflow as tf\n",
    "tf.random.set_seed(0)"
   ]
  },
  {
   "cell_type": "code",
   "execution_count": null,
   "id": "2fd37d80-24f8-495a-85df-0815cc0b194b",
   "metadata": {},
   "outputs": [],
   "source": [
    "from tensorflow.keras import datasets, layers, models\n",
    "import matplotlib.pyplot as plt"
   ]
  },
  {
   "cell_type": "code",
   "execution_count": null,
   "id": "30ca4feb-5102-41b3-9003-e8bc6c6bb170",
   "metadata": {},
   "outputs": [],
   "source": [
    "fashion_mnist = datasets.fashion_mnist"
   ]
  },
  {
   "cell_type": "code",
   "execution_count": null,
   "id": "fb0217b7-3f9d-462a-9e95-648591b76d5e",
   "metadata": {},
   "outputs": [],
   "source": [
    "(train_images, train_labels), (test_images, test_labels) = fashion_mnist.load_data()"
   ]
  },
  {
   "cell_type": "code",
   "execution_count": null,
   "id": "d2a7a6ac-0d45-4356-adb0-0f304f3f4107",
   "metadata": {},
   "outputs": [],
   "source": [
    "print(f'Train images type: {type(train_images)}\\nTrain labels type: {type(train_labels)}')"
   ]
  },
  {
   "cell_type": "code",
   "execution_count": null,
   "id": "38f51957-8885-4f4e-9b72-8161eb4b3346",
   "metadata": {},
   "outputs": [],
   "source": [
    "print(f'Train images: {len(train_images)}\\nTrain labels: {len(train_labels)}')\n",
    "print(f'Train images shape: {train_images[0].shape}')"
   ]
  },
  {
   "cell_type": "code",
   "execution_count": null,
   "id": "d7f88721-169f-4951-af5b-d0f8e55806e0",
   "metadata": {},
   "outputs": [],
   "source": [
    "print(train_images[0])"
   ]
  },
  {
   "cell_type": "code",
   "execution_count": null,
   "id": "a8491bcc-db37-4c10-9aac-297b8dd84119",
   "metadata": {},
   "outputs": [],
   "source": [
    "plt.imshow(train_images[0], cmap='gray')"
   ]
  },
  {
   "cell_type": "code",
   "execution_count": null,
   "id": "f060f67f-e353-4bfc-a0b9-34cbe222d66f",
   "metadata": {},
   "outputs": [],
   "source": [
    "train_labels[0]"
   ]
  },
  {
   "cell_type": "code",
   "execution_count": null,
   "id": "4002117a-840a-4978-8b02-341289bdb6e6",
   "metadata": {},
   "outputs": [],
   "source": [
    "train_images = train_images / 255.0\n",
    "test_images = test_images / 255.0"
   ]
  },
  {
   "cell_type": "code",
   "execution_count": null,
   "id": "c888b6bc-3b07-43dd-a149-fe38a51f253e",
   "metadata": {},
   "outputs": [],
   "source": [
    "train_images = train_images.reshape((train_images.shape[0], 28,28,1))\n",
    "test_images = test_images.reshape((test_images.shape[0], 28,28,1))"
   ]
  },
  {
   "cell_type": "code",
   "execution_count": null,
   "id": "0ae1fdd0-adc3-40e9-8cac-79842a8593d6",
   "metadata": {},
   "outputs": [],
   "source": [
    "print(f'Train images: {len(train_images)}\\nTrain labels: {len(train_labels)}')\n",
    "print(f'Train images shape: {train_images[0].shape}')"
   ]
  },
  {
   "cell_type": "code",
   "execution_count": null,
   "id": "782e2ef1-bd49-4520-b274-e1624796ad93",
   "metadata": {},
   "outputs": [],
   "source": [
    "print(f'Test images: {len(test_images)}\\nTest labels: {len(test_labels)}')\n",
    "print(f'Test images shape: {test_images[0].shape}')"
   ]
  },
  {
   "cell_type": "code",
   "execution_count": null,
   "id": "f5346fdc-fe96-4908-a6b5-4761b23cd76a",
   "metadata": {},
   "outputs": [],
   "source": [
    "model = models.Sequential()"
   ]
  },
  {
   "cell_type": "code",
   "execution_count": null,
   "id": "362792b6-9dc1-4e06-879f-ac3d420c7d73",
   "metadata": {},
   "outputs": [],
   "source": [
    "model.add(layers.Conv2D(32, (3,3), activation='relu', input_shape=(28,28,1)))\n",
    "model.add(layers.MaxPooling2D((2,2)))\n",
    "model.add(layers.Conv2D(64, (3,3), activation='relu'))\n",
    "model.add(layers.MaxPool2D((2,2)))\n",
    "model.add(layers.Conv2D(64, (3,3), activation='relu'))\n",
    "\n",
    "model.add(layers.Flatten())\n",
    "model.add(layers.Dense(64, activation='relu'))\n",
    "model.add(layers.Dense(10))"
   ]
  },
  {
   "cell_type": "code",
   "execution_count": null,
   "id": "53103b79-8bf5-4331-b7ec-5685c72f46eb",
   "metadata": {},
   "outputs": [],
   "source": [
    "model.compile(optimizer = 'adam',\n",
    "             loss = tf.keras.losses.SparseCategoricalCrossentropy(from_logits=True),\n",
    "             metrics=['accuracy'])"
   ]
  },
  {
   "cell_type": "code",
   "execution_count": null,
   "id": "234c287a-8cd9-45b0-8ce5-3d2ef503c60f",
   "metadata": {},
   "outputs": [],
   "source": [
    "history = model.fit(train_images, train_labels, epochs=5,\n",
    "                   validation_data=(test_images, test_labels))"
   ]
  },
  {
   "cell_type": "code",
   "execution_count": null,
   "id": "3ff7cbc1-1c62-44a2-8d21-51693f406f2c",
   "metadata": {},
   "outputs": [],
   "source": [
    "test_loss, test_acc = model.evaluate(test_images, test_labels, verbose=2)\n",
    "print(f'Test loss= {test_loss}\\nTest accuracy = {test_acc}')"
   ]
  },
  {
   "cell_type": "code",
   "execution_count": null,
   "id": "ff99fc7d-1671-4ce3-82c0-b39b546ce973",
   "metadata": {},
   "outputs": [],
   "source": [
    "plt.plot(history.history['accuracy'])\n",
    "plt.plot(history.history['val_accuracy'])\n",
    "plt.title('Model Accuracy')\n",
    "plt.ylabel('Accuracy')\n",
    "plt.xlabel('Epoch')\n",
    "plt.legend(['Train', 'Test'], loc='upper left')"
   ]
  },
  {
   "cell_type": "code",
   "execution_count": null,
   "id": "4b27b849-88b7-46eb-a09c-843868d244a7",
   "metadata": {},
   "outputs": [],
   "source": [
    "plt.plot(history.history['loss'])\n",
    "plt.plot(history.history['val_loss'])\n",
    "plt.title('Model Loss')\n",
    "plt.ylabel('Loss')\n",
    "plt.xlabel('Epoch')\n",
    "plt.legend(['Train', 'Test'], loc='upper left')"
   ]
  },
  {
   "cell_type": "code",
   "execution_count": null,
   "id": "50206853-0211-4c65-8f46-57533da38186",
   "metadata": {},
   "outputs": [],
   "source": [
    "model.save('trained_fashion_mnist_model.h5')"
   ]
  },
  {
   "cell_type": "code",
   "execution_count": null,
   "id": "50c86f74-5881-4804-b474-87a0945461d7",
   "metadata": {},
   "outputs": [],
   "source": []
  }
 ],
 "metadata": {
  "kernelspec": {
   "display_name": "Python 3 (ipykernel)",
   "language": "python",
   "name": "python3"
  },
  "language_info": {
   "codemirror_mode": {
    "name": "ipython",
    "version": 3
   },
   "file_extension": ".py",
   "mimetype": "text/x-python",
   "name": "python",
   "nbconvert_exporter": "python",
   "pygments_lexer": "ipython3",
   "version": "3.12.3"
  }
 },
 "nbformat": 4,
 "nbformat_minor": 5
}
