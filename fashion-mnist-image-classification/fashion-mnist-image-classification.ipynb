{
 "cells": [
  {
   "cell_type": "code",
   "execution_count": null,
   "id": "2d04d4e0-09dd-443a-8c2b-e996242bf085",
   "metadata": {},
   "outputs": [],
   "source": [
    "import numpy as np\n",
    "import random\n",
    "import tensorflow as tf\n",
    "from tensorflow.keras import datasets, layers, models, callbacks\n",
    "import matplotlib.pyplot as plt\n",
    "import os\n",
    "from datetime import datetime"
   ]
  },
  {
   "cell_type": "code",
   "execution_count": null,
   "id": "9187c942-e82f-4295-a349-b599a0c30df8",
   "metadata": {},
   "outputs": [],
   "source": [
    "np.random.seed(0)\n",
    "random.seed(0)\n",
    "tf.random.set_seed(0)"
   ]
  },
  {
   "cell_type": "code",
   "execution_count": null,
   "id": "186328ac-b41c-4de1-b625-664c30aaf63b",
   "metadata": {},
   "outputs": [],
   "source": [
    "def load_and_preprocess_data():\n",
    "    (train_images, train_labels), (test_images, test_labels) = datasets.fashion_mnist.load_data()\n",
    "\n",
    "    train_images = train_images / 255.0\n",
    "    test_images = test_images / 255.0\n",
    "\n",
    "    train_images = train_images.reshape((-1, 28, 28, 1))\n",
    "    test_images = test_images.reshape((-1, 28, 28, 1))\n",
    "\n",
    "    return train_images, train_labels, test_images, test_labels"
   ]
  },
  {
   "cell_type": "code",
   "execution_count": null,
   "id": "15a798ee-8c2c-43cf-9bdb-303da7d9a8e3",
   "metadata": {},
   "outputs": [],
   "source": [
    "def build_model():\n",
    "    model = models.Sequential([\n",
    "        layers.Conv2D(32, (3, 3), activation='relu', input_shape=(28, 28, 1)),\n",
    "        layers.BatchNormalization(),\n",
    "        layers.MaxPooling2D((2, 2)),\n",
    "        layers.Dropout(0.25),\n",
    "\n",
    "        layers.Conv2D(64, (3, 3), activation='relu'),\n",
    "        layers.BatchNormalization(),\n",
    "        layers.MaxPooling2D((2, 2)),\n",
    "        layers.Dropout(0.25),\n",
    "\n",
    "        layers.Conv2D(128, (3, 3), activation='relu'),\n",
    "        layers.BatchNormalization(),\n",
    "        layers.Flatten(),\n",
    "        layers.Dropout(0.4),\n",
    "\n",
    "        layers.Dense(128, activation='relu'),\n",
    "        layers.BatchNormalization(),\n",
    "        layers.Dropout(0.3),\n",
    "        layers.Dense(10, activation='softmax')\n",
    "    ])\n",
    "    model.compile(\n",
    "        optimizer='adam',\n",
    "        loss='sparse_categorical_crossentropy',\n",
    "        metrics=['sparse_categorical_accuracy']\n",
    "    )\n",
    "    return model"
   ]
  },
  {
   "cell_type": "code",
   "execution_count": null,
   "id": "23072772-c1f3-4723-a097-b93d3e51fedb",
   "metadata": {},
   "outputs": [],
   "source": [
    "def plot_training_history(history, save_dir='images'):\n",
    "    os.makedirs(save_dir, exist_ok=True)\n",
    "\n",
    "    timestamp = datetime.now().strftime('%Y%m%d_%H%M%S')\n",
    "\n",
    "    plt.style.use('dark_background')\n",
    "\n",
    "    plt.figure(figsize=(6, 5))\n",
    "    plt.plot(history.history['sparse_categorical_accuracy'], label='Train Accuracy', color='#00FFAB', linewidth=2)\n",
    "    plt.plot(history.history['val_sparse_categorical_accuracy'], label='Val Accuracy', color='#FF6EC7', linestyle='--', linewidth=2)\n",
    "    plt.title('Accuracy Over Epochs', fontsize=14, color='#00FFFF')\n",
    "    plt.xlabel('Epoch', fontsize=12)\n",
    "    plt.ylabel('Accuracy', fontsize=12)\n",
    "    plt.legend(loc='lower right')\n",
    "    plt.grid(True, linestyle='--', alpha=0.3)\n",
    "    acc_path = os.path.join(save_dir, f\"model_accuracy_{timestamp}.png\")\n",
    "    plt.savefig(acc_path, dpi=300, bbox_inches='tight')\n",
    "    print(f\"Accuracy plot saved to: {acc_path}\")\n",
    "    plt.show()\n",
    "\n",
    "    plt.figure(figsize=(6, 5))\n",
    "    plt.plot(history.history['loss'], label='Train Loss', color='#00FFAB', linewidth=2)\n",
    "    plt.plot(history.history['val_loss'], label='Val Loss', color='#FF6EC7', linestyle='--', linewidth=2)\n",
    "    plt.title('Loss Over Epochs', fontsize=14, color='#FF00FF')\n",
    "    plt.xlabel('Epoch', fontsize=12)\n",
    "    plt.ylabel('Loss', fontsize=12)\n",
    "    plt.legend(loc='upper right')\n",
    "    plt.grid(True, linestyle='--', alpha=0.3)\n",
    "    loss_path = os.path.join(save_dir, f\"model_loss_{timestamp}.png\")\n",
    "    plt.savefig(loss_path, dpi=300, bbox_inches='tight')\n",
    "    print(f\"Loss plot saved to: {loss_path}\")\n",
    "    plt.show()\n"
   ]
  },
  {
   "cell_type": "code",
   "execution_count": null,
   "id": "e309c6a3-3306-4648-bd21-44fe62e62ad1",
   "metadata": {},
   "outputs": [],
   "source": [
    "def main():\n",
    "    train_images, train_labels, test_images, test_labels = load_and_preprocess_data()\n",
    "\n",
    "    plt.imshow(train_images[0].reshape(28, 28), cmap='gray')\n",
    "    plt.title(f\"Sample Image - Label: {train_labels[0]}\")\n",
    "    plt.axis('off')\n",
    "    plt.show()\n",
    "\n",
    "    model = build_model()\n",
    "    model.summary()\n",
    "\n",
    "    early_stop = callbacks.EarlyStopping(patience=5, restore_best_weights=True)\n",
    "    checkpoint = callbacks.ModelCheckpoint(\"best_model.h5\", save_best_only=True)\n",
    "\n",
    "    history = model.fit(\n",
    "        train_images, train_labels,\n",
    "        epochs=20,\n",
    "        batch_size=64,\n",
    "        validation_data=(test_images, test_labels),\n",
    "        callbacks=[early_stop, checkpoint]\n",
    "    )\n",
    "\n",
    "    test_loss, test_acc = model.evaluate(test_images, test_labels, verbose=2)\n",
    "    print(f'\\nTest Loss: {test_loss:.4f}')\n",
    "    print(f'Test Accuracy: {test_acc:.4f}')\n",
    "\n",
    "    plot_training_history(history)"
   ]
  },
  {
   "cell_type": "code",
   "execution_count": null,
   "id": "b2fcd1ad-fd6b-4bd0-b23b-1aa2989bc2a7",
   "metadata": {},
   "outputs": [],
   "source": [
    "if __name__ == '__main__':\n",
    "    main()"
   ]
  },
  {
   "cell_type": "code",
   "execution_count": null,
   "id": "ead2c7c6-94c9-41c2-bf41-8fb36b3fa6ef",
   "metadata": {},
   "outputs": [],
   "source": []
  }
 ],
 "metadata": {
  "kernelspec": {
   "display_name": "Python 3 (ipykernel)",
   "language": "python",
   "name": "python3"
  },
  "language_info": {
   "codemirror_mode": {
    "name": "ipython",
    "version": 3
   },
   "file_extension": ".py",
   "mimetype": "text/x-python",
   "name": "python",
   "nbconvert_exporter": "python",
   "pygments_lexer": "ipython3",
   "version": "3.12.3"
  }
 },
 "nbformat": 4,
 "nbformat_minor": 5
}
