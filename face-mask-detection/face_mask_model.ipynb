{
 "cells": [
  {
   "cell_type": "code",
   "execution_count": null,
   "id": "62481c7e-a846-45ce-b182-f8c4d50ec764",
   "metadata": {},
   "outputs": [],
   "source": [
    "import os\n",
    "import numpy as np\n",
    "import cv2\n",
    "from PIL import Image\n",
    "import matplotlib.pyplot as plt\n",
    "from sklearn.model_selection import train_test_split\n",
    "import tensorflow as tf\n",
    "from tensorflow import keras\n",
    "from tensorflow.keras.preprocessing.image import ImageDataGenerator"
   ]
  },
  {
   "cell_type": "code",
   "execution_count": null,
   "id": "f64a590c-5f75-49b0-bb11-4e913871ec9c",
   "metadata": {},
   "outputs": [],
   "source": [
    "print(\"Num GPUs Available:\", len(tf.config.list_physical_devices('GPU')))"
   ]
  },
  {
   "cell_type": "code",
   "execution_count": null,
   "id": "dd142e1e-d76a-43ce-ac2b-50f65d0247cf",
   "metadata": {},
   "outputs": [],
   "source": [
    "def load_images_from_folder(folder, label):\n",
    "    images = []\n",
    "    labels = []\n",
    "    for img_name in os.listdir(folder):\n",
    "        try:\n",
    "            img_path = os.path.join(folder, img_name)\n",
    "            img = Image.open(img_path).convert('RGB').resize((128, 128))\n",
    "            images.append(np.array(img))\n",
    "            labels.append(label)\n",
    "        except:\n",
    "            continue\n",
    "    return images, labels"
   ]
  },
  {
   "cell_type": "code",
   "execution_count": null,
   "id": "ae827dff-575a-46b4-a9e7-4d0c5e33dc12",
   "metadata": {},
   "outputs": [],
   "source": [
    "with_mask_images, with_mask_labels = load_images_from_folder('data/with_mask', 1)\n",
    "without_mask_images, without_mask_labels = load_images_from_folder('data/without_mask', 0)"
   ]
  },
  {
   "cell_type": "code",
   "execution_count": null,
   "id": "f6a281da-cbaa-4888-9d4d-4100c267e4fa",
   "metadata": {},
   "outputs": [],
   "source": [
    "data = with_mask_images + without_mask_images\n",
    "labels = with_mask_labels + without_mask_labels"
   ]
  },
  {
   "cell_type": "code",
   "execution_count": null,
   "id": "2ce0c3fc-98ef-40c7-8c6b-374d7304de52",
   "metadata": {},
   "outputs": [],
   "source": [
    "print(f\"Loaded {len(data)} images.\")"
   ]
  },
  {
   "cell_type": "code",
   "execution_count": null,
   "id": "868ee8e6-68f2-46ea-a9b8-55bb14f61ba7",
   "metadata": {},
   "outputs": [],
   "source": [
    "X = np.array(data) / 255.0\n",
    "y = np.array(labels)"
   ]
  },
  {
   "cell_type": "code",
   "execution_count": null,
   "id": "8fe620f6-9e31-418a-8d77-3ace34fa6d8e",
   "metadata": {},
   "outputs": [],
   "source": [
    "indices = np.arange(len(X))\n",
    "np.random.shuffle(indices)\n",
    "X = X[indices]\n",
    "y = y[indices]"
   ]
  },
  {
   "cell_type": "code",
   "execution_count": null,
   "id": "1f55fb2e-54f4-45b1-b8c4-5359596b1f49",
   "metadata": {},
   "outputs": [],
   "source": [
    "X_train, X_test, y_train, y_test = train_test_split(X, y, test_size=0.2, random_state=42)\n",
    "X_train_final, X_val, y_train_final, y_val = train_test_split(X_train, y_train, test_size=0.1, random_state=42)"
   ]
  },
  {
   "cell_type": "code",
   "execution_count": null,
   "id": "c9e212da-97c9-4446-9bbf-dde6a25708a3",
   "metadata": {},
   "outputs": [],
   "source": [
    "print(\"Training data:\", X_train.shape)\n",
    "print(\"Testing data:\", X_test.shape)"
   ]
  },
  {
   "cell_type": "code",
   "execution_count": null,
   "id": "e2ad741e-fa97-427f-967e-8d1290d40daa",
   "metadata": {},
   "outputs": [],
   "source": [
    "datagen = ImageDataGenerator(\n",
    "    rotation_range=10,\n",
    "    zoom_range=0.1,\n",
    "    width_shift_range=0.1,\n",
    "    height_shift_range=0.1,\n",
    "    horizontal_flip=True\n",
    ")\n",
    "datagen.fit(X_train)"
   ]
  },
  {
   "cell_type": "code",
   "execution_count": null,
   "id": "69453330-380c-470c-94f1-9747cfd9a014",
   "metadata": {},
   "outputs": [],
   "source": [
    "model = keras.Sequential([\n",
    "    keras.layers.Conv2D(32, (3,3), activation='relu', input_shape=(128,128,3)),\n",
    "    keras.layers.MaxPooling2D((2,2)),\n",
    "\n",
    "    keras.layers.Conv2D(64, (3,3), activation='relu'),\n",
    "    keras.layers.MaxPooling2D((2,2)),\n",
    "\n",
    "    keras.layers.Conv2D(128, (3,3), activation='relu'),\n",
    "    keras.layers.MaxPooling2D((2,2)),\n",
    "\n",
    "    keras.layers.Flatten(),\n",
    "    keras.layers.Dense(128, activation='relu'),\n",
    "    keras.layers.Dropout(0.5),\n",
    "    keras.layers.Dense(1, activation='sigmoid')\n",
    "])"
   ]
  },
  {
   "cell_type": "code",
   "execution_count": null,
   "id": "27af2423-97db-4618-a114-e88a7874b107",
   "metadata": {},
   "outputs": [],
   "source": [
    "model.compile(optimizer='adam', loss='binary_crossentropy', metrics=['accuracy'])"
   ]
  },
  {
   "cell_type": "code",
   "execution_count": null,
   "id": "0bf2520f-b1bc-4a06-83fc-174c7859132d",
   "metadata": {},
   "outputs": [],
   "source": [
    "model.summary()"
   ]
  },
  {
   "cell_type": "code",
   "execution_count": null,
   "id": "23ee7200-83c5-44e6-8544-96ad97509601",
   "metadata": {},
   "outputs": [],
   "source": [
    "early_stop = keras.callbacks.EarlyStopping(patience=5, restore_best_weights=True)"
   ]
  },
  {
   "cell_type": "code",
   "execution_count": null,
   "id": "50b3dae6-2173-49ac-a059-709f6697df26",
   "metadata": {},
   "outputs": [],
   "source": [
    "history = model.fit(\n",
    "    datagen.flow(X_train_final, y_train_final, batch_size=32),\n",
    "    validation_data=(X_val, y_val),\n",
    "    epochs=15,\n",
    "    callbacks=[early_stop]\n",
    ")"
   ]
  },
  {
   "cell_type": "code",
   "execution_count": null,
   "id": "b0144928-3ffb-4702-b9c7-4d7ffc87177b",
   "metadata": {},
   "outputs": [],
   "source": [
    "loss, accuracy = model.evaluate(X_test, y_test)\n",
    "print(f\"Test Accuracy: {accuracy*100:.2f}%\")"
   ]
  },
  {
   "cell_type": "code",
   "execution_count": null,
   "id": "13308557-f805-4217-806b-8dfd58253bde",
   "metadata": {},
   "outputs": [],
   "source": [
    "plt.style.use('dark_background')\n",
    "train_color = '#00ffe7'\n",
    "val_color = '#ff4c98'\n",
    "\n",
    "plt.figure(figsize=(12, 4))\n",
    "plt.subplot(1, 2, 1)\n",
    "plt.plot(history.history['loss'], label='Train Loss', color=train_color, linewidth=2)\n",
    "plt.plot(history.history['val_loss'], label='Val Loss', color=val_color, linewidth=2)\n",
    "plt.title('Loss', fontsize=14, fontweight='bold')\n",
    "plt.xlabel('Epoch')\n",
    "plt.ylabel('Loss')\n",
    "plt.grid(True, linestyle='--', alpha=0.3)\n",
    "plt.legend()\n",
    "plt.tight_layout()\n",
    "plt.savefig(\"loss_plot.png\", dpi=300)\n",
    "plt.show()"
   ]
  },
  {
   "cell_type": "code",
   "execution_count": null,
   "id": "2fe47252-05e0-4330-bc94-3f550460348b",
   "metadata": {},
   "outputs": [],
   "source": [
    "plt.plot(history.history['accuracy'], label='Train Acc', color=train_color, linewidth=2)\n",
    "plt.plot(history.history['val_accuracy'], label='Val Acc', color=val_color, linewidth=2)\n",
    "plt.title('Accuracy', fontsize=14, fontweight='bold')\n",
    "plt.xlabel('Epoch')\n",
    "plt.ylabel('Accuracy')\n",
    "plt.grid(True, linestyle='--', alpha=0.3)\n",
    "plt.legend()\n",
    "plt.tight_layout()\n",
    "plt.savefig(\"accuracy_plot.png\", dpi=300)\n",
    "plt.show()"
   ]
  },
  {
   "cell_type": "code",
   "execution_count": null,
   "id": "c48b4150-bcd9-4482-ac8e-e513eb3f0f44",
   "metadata": {},
   "outputs": [],
   "source": [
    "input_image_path = input(\"Path of image: \").strip()\n",
    "input_image = cv2.imread(input_image_path)\n",
    "\n",
    "if input_image is None:\n",
    "    print(\"Error: Image not found.\")\n",
    "else:\n",
    "    cv2.imshow(\"Input Image\", input_image)\n",
    "    cv2.waitKey(0)\n",
    "    cv2.destroyAllWindows()\n",
    "\n",
    "    input_resized = cv2.resize(input_image, (128, 128))\n",
    "    input_scaled = input_resized / 255.0\n",
    "    input_reshaped = np.reshape(input_scaled, (1, 128, 128, 3))\n",
    "\n",
    "    prediction = model.predict(input_reshaped)\n",
    "    label = int(prediction[0][0] > 0.5)\n",
    "\n",
    "    print(f\"Raw Prediction: {prediction[0][0]:.4f}\")\n",
    "    if label == 1:\n",
    "        print(\"Prediction: With Mask\")\n",
    "    else:\n",
    "        print(\"Prediction: Without Mask\")"
   ]
  },
  {
   "cell_type": "code",
   "execution_count": null,
   "id": "948dd2db-1e36-4908-893e-72788b5903f8",
   "metadata": {},
   "outputs": [],
   "source": [
    "os.makedirs(\"models\", exist_ok=True)\n",
    "model.save(\"models/face_mask_model.h5\")"
   ]
  },
  {
   "cell_type": "code",
   "execution_count": null,
   "id": "bd363ed4-764a-4515-b219-3011e54da68d",
   "metadata": {},
   "outputs": [],
   "source": []
  }
 ],
 "metadata": {
  "kaggle": {
   "accelerator": "nvidiaTeslaT4",
   "dataSources": [
    {
     "datasetId": 809358,
     "sourceId": 1386555,
     "sourceType": "datasetVersion"
    }
   ],
   "dockerImageVersionId": 31090,
   "isGpuEnabled": true,
   "isInternetEnabled": true,
   "language": "python",
   "sourceType": "notebook"
  },
  "kernelspec": {
   "display_name": "Python 3 (ipykernel)",
   "language": "python",
   "name": "python3"
  },
  "language_info": {
   "codemirror_mode": {
    "name": "ipython",
    "version": 3
   },
   "file_extension": ".py",
   "mimetype": "text/x-python",
   "name": "python",
   "nbconvert_exporter": "python",
   "pygments_lexer": "ipython3",
   "version": "3.12.3"
  }
 },
 "nbformat": 4,
 "nbformat_minor": 5
}
