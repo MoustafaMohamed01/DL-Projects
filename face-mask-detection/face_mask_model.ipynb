{
 "cells": [
  {
   "cell_type": "code",
   "execution_count": null,
   "id": "62481c7e-a846-45ce-b182-f8c4d50ec764",
   "metadata": {},
   "outputs": [],
   "source": [
    "import os\n",
    "import numpy as np\n",
    "import matplotlib.pyplot as plt\n",
    "import matplotlib.image as mpimg\n",
    "import cv2\n",
    "from PIL import Image\n",
    "from sklearn.model_selection import train_test_split\n",
    "import tensorflow as tf\n",
    "from tensorflow import keras"
   ]
  },
  {
   "cell_type": "code",
   "execution_count": null,
   "id": "b5308a5b-636a-48bd-b3fd-e3a2232898d8",
   "metadata": {},
   "outputs": [],
   "source": [
    "with_mask = os.listdir('data/with_mask')\n",
    "without_mask = os.listdir('data/without_mask')"
   ]
  },
  {
   "cell_type": "code",
   "execution_count": null,
   "id": "160a0a55-2075-47d0-b7c5-81c4a039c771",
   "metadata": {},
   "outputs": [],
   "source": [
    "print(with_mask[0:5])\n",
    "print(without_mask[0:5])"
   ]
  },
  {
   "cell_type": "code",
   "execution_count": null,
   "id": "969400b0-b6ce-4b59-b2d8-9d83ec265736",
   "metadata": {},
   "outputs": [],
   "source": [
    "print(f\"Images with mask: {len(with_mask)}\")\n",
    "print(f\"Images without mask: {len(without_mask)}\")"
   ]
  },
  {
   "cell_type": "code",
   "execution_count": null,
   "id": "e3595103-2562-4587-a762-e5d8ab065b4f",
   "metadata": {},
   "outputs": [],
   "source": [
    "with_mask_labels = [1]*3725\n",
    "without_mask_labels = [0]*3828"
   ]
  },
  {
   "cell_type": "code",
   "execution_count": null,
   "id": "1a5b88dd-2613-4e6c-9d0c-d7b0e9825cf6",
   "metadata": {},
   "outputs": [],
   "source": [
    "labels = with_mask_labels + without_mask_labels"
   ]
  },
  {
   "cell_type": "code",
   "execution_count": null,
   "id": "1cc82828-35e5-438c-8ba7-dbdc22a12918",
   "metadata": {},
   "outputs": [],
   "source": [
    "img = mpimg.imread('data/with_mask/with_mask_1.jpg')\n",
    "imgplot = plt.imshow(img)\n",
    "plt.show()"
   ]
  },
  {
   "cell_type": "code",
   "execution_count": null,
   "id": "136718dd-14f9-4fdb-850e-cff6b15488f5",
   "metadata": {},
   "outputs": [],
   "source": [
    "img = mpimg.imread('data/without_mask/without_mask_2925.jpg')\n",
    "imgplot = plt.imshow(img)\n",
    "plt.show()"
   ]
  },
  {
   "cell_type": "code",
   "execution_count": null,
   "id": "0e0ba6d7-c597-43ba-b52e-2ad508b493c3",
   "metadata": {},
   "outputs": [],
   "source": [
    "with_mask_path = 'data/with_mask'\n",
    "data = []\n",
    "labels = []\n",
    "\n",
    "for img_name in os.listdir(with_mask_path):\n",
    "    img_path = os.path.join(with_mask_path, img_name)\n",
    "    try:\n",
    "        img = Image.open(img_path).convert('RGB').resize((128, 128))\n",
    "        data.append(np.array(img))\n",
    "        labels.append(1)\n",
    "    except:\n",
    "        pass"
   ]
  },
  {
   "cell_type": "code",
   "execution_count": null,
   "id": "2b79b53e-d89e-4e39-8802-40346e5707c7",
   "metadata": {},
   "outputs": [],
   "source": [
    "without_mask_path = 'data/without_mask'\n",
    "\n",
    "for img_name in os.listdir(without_mask_path):\n",
    "    img_path = os.path.join(without_mask_path, img_name)\n",
    "    try:\n",
    "        img = Image.open(img_path).convert('RGB').resize((128, 128))\n",
    "        data.append(np.array(img))\n",
    "        labels.append(0)\n",
    "    except:\n",
    "        pass"
   ]
  },
  {
   "cell_type": "code",
   "execution_count": null,
   "id": "4831602c-f4b0-4859-972a-26a2021cd929",
   "metadata": {},
   "outputs": [],
   "source": [
    "X = np.array(data) / 255.0\n",
    "y = np.array(labels)"
   ]
  },
  {
   "cell_type": "code",
   "execution_count": null,
   "id": "6ab29bb9-f3ce-4613-bbfe-b5183ccf4641",
   "metadata": {},
   "outputs": [],
   "source": [
    "X_train_scaled, X_test_scaled, y_train, y_test = train_test_split(X, y, test_size=0.2, random_state=42)"
   ]
  },
  {
   "cell_type": "code",
   "execution_count": null,
   "id": "31d5fb9b-db0a-40b0-9196-58b98cc9c894",
   "metadata": {},
   "outputs": [],
   "source": [
    "print(X_train_scaled.shape)\n",
    "print(y_train.shape)"
   ]
  },
  {
   "cell_type": "code",
   "execution_count": null,
   "id": "7865ef88-ad51-4a76-b23a-fa758cd1d5f4",
   "metadata": {},
   "outputs": [],
   "source": [
    "model = keras.Sequential()\n",
    "\n",
    "model.add(keras.layers.Conv2D(32, kernel_size=(3,3), activation='relu', input_shape=(128,128,3)))\n",
    "model.add(keras.layers.MaxPooling2D(pool_size=(2,2)))\n",
    "\n",
    "model.add(keras.layers.Conv2D(32, kernel_size=(3,3), activation='relu'))\n",
    "model.add(keras.layers.MaxPooling2D(pool_size=(2,2)))\n",
    "\n",
    "model.add(keras.layers.Flatten())\n",
    "\n",
    "model.add(keras.layers.Dense(128, activation='relu'))\n",
    "model.add(keras.layers.Dropout(0.5))\n",
    "\n",
    "model.add(keras.layers.Dense(64, activation='relu'))\n",
    "model.add(keras.layers.Dropout(0.5))\n",
    "\n",
    "model.add(keras.layers.Dense(1, activation='sigmoid'))"
   ]
  },
  {
   "cell_type": "code",
   "execution_count": null,
   "id": "ef1ee113-c061-470d-9bb4-65dca0471a2f",
   "metadata": {},
   "outputs": [],
   "source": [
    "model.compile(optimizer='adam', loss='binary_crossentropy', metrics=['accuracy'])"
   ]
  },
  {
   "cell_type": "code",
   "execution_count": null,
   "id": "a407c910-8d40-4bd0-b0af-21b481102a52",
   "metadata": {},
   "outputs": [],
   "source": [
    "history = model.fit(X_train_scaled, y_train, validation_split=0.1, epochs=5)"
   ]
  },
  {
   "cell_type": "code",
   "execution_count": null,
   "id": "1ddea6f1-b405-4274-9632-6e4ad83cf06f",
   "metadata": {},
   "outputs": [],
   "source": [
    "loss, accuracy = model.evaluate(X_test_scaled, y_test)"
   ]
  },
  {
   "cell_type": "code",
   "execution_count": null,
   "id": "47c73dca-8982-4457-b1b6-c61ea560f5b3",
   "metadata": {},
   "outputs": [],
   "source": [
    "h = history\n",
    "\n",
    "plt.plot(h.history['loss'], label='train loss')\n",
    "plt.plot(h.history['val_loss'], label='validation loss')\n",
    "plt.legend()\n",
    "plt.show()\n",
    "\n",
    "plt.plot(h.history['accuracy'], label='train acc')\n",
    "plt.plot(h.history['val_accuracy'], label='validation acc')\n",
    "plt.legend()\n",
    "plt.show()"
   ]
  },
  {
   "cell_type": "code",
   "execution_count": null,
   "id": "de4be8cf-3dd3-40c7-8e5f-070ce84651a8",
   "metadata": {},
   "outputs": [],
   "source": [
    "input_image_path = input('Path of image: ')\n",
    "input_image = cv2.imread(input_image_path)\n",
    "\n",
    "cv2.imshow(\"Input Image\", input_image)\n",
    "cv2.waitKey(0)\n",
    "cv2.destroyAllWindows()\n",
    "\n",
    "input_image_resized = cv2.resize(input_image, (128, 128))\n",
    "input_image_scaled = input_image_resized / 255.0\n",
    "input_image_reshaped = np.reshape(input_image_scaled, (1, 128, 128, 3))\n",
    "\n",
    "input_prediction = model.predict(input_image_reshaped)\n",
    "print(\"Raw prediction:\", input_prediction)\n",
    "\n",
    "if input_prediction[0][0] > 0.5:\n",
    "    print(\"With Mask\")\n",
    "else:\n",
    "    print(\"Without Mask\")"
   ]
  },
  {
   "cell_type": "code",
   "execution_count": null,
   "id": "ee14162a-2aca-48be-a321-f4872daf7f1a",
   "metadata": {},
   "outputs": [],
   "source": [
    "model.save(\"models/face_mask_model.h5\")"
   ]
  },
  {
   "cell_type": "code",
   "execution_count": null,
   "id": "eee83e73-ba91-452f-a07e-79e24f93a638",
   "metadata": {},
   "outputs": [],
   "source": []
  }
 ],
 "metadata": {
  "kernelspec": {
   "display_name": "Python 3 (ipykernel)",
   "language": "python",
   "name": "python3"
  },
  "language_info": {
   "codemirror_mode": {
    "name": "ipython",
    "version": 3
   },
   "file_extension": ".py",
   "mimetype": "text/x-python",
   "name": "python",
   "nbconvert_exporter": "python",
   "pygments_lexer": "ipython3",
   "version": "3.12.3"
  }
 },
 "nbformat": 4,
 "nbformat_minor": 5
}
